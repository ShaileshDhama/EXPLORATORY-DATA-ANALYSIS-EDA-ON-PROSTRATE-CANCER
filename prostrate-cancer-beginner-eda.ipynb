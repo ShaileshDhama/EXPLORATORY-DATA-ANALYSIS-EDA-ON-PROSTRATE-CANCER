{
 "cells": [
  {
   "cell_type": "markdown",
   "execution_count": null,
   "metadata": {},
   "source": [
    "## Prepare the Data Analysis\n",
    "\n",
    "### 1.Load Packages"
   ]
  },
  {
   "cell_type": "code",
   "execution_count": 1,
   "metadata": {},
   "outputs": [],
   "source": [
    "import pandas as pd \n",
    "import numpy as np\n",
    "import os\n",
    "import matplotlib\n",
    "import matplotlib.pyplot as plt\n",
    "from tqdm import tqdm_notebook\n",
    "from matplotlib.patches import Rectangle\n",
    "import seaborn as sns\n",
    "import openslide\n",
    "%matplotlib inline \n",
    "PATH = \"/kaggle/input/prostate-cancer-grade-assessment/\""
   ]
  },
  {
   "cell_type": "markdown",
   "execution_count": null,
   "metadata": {},
   "source": [
    "### 2.Load the Data\n",
    "\n",
    "Let's load the tabular data. There are three files:\n",
    "\n",
    "*     Sample submission.\n",
    "*     Train.\n",
    "*     Test."
   ]
  },
  {
   "cell_type": "code",
   "execution_count": 2,
   "metadata": {},
   "outputs": [],
   "source": [
    "sample_submission_df = pd.read_csv(os.path.join(PATH,'sample_submission.csv'))\n",
    "train_df = pd.read_csv(os.path.join(PATH,'train.csv'))\n",
    "test_df = pd.read_csv(os.path.join(PATH,'test.csv'))"
   ]
  },
  {
   "cell_type": "code",
   "execution_count": 3,
   "metadata": {},
   "outputs": [
    {
     "name": "stdout",
     "output_type": "stream",
     "text": [
      "sample submission shape: (3, 2)\n",
      "train shape: (10616, 4)\n",
      "test shape: (3, 2)\n"
     ]
    }
   ],
   "source": [
    "print(f\"sample submission shape: {sample_submission_df.shape}\")\n",
    "print(f\"train shape: {train_df.shape}\")\n",
    "print(f\"test shape: {test_df.shape}\")"
   ]
  },
  {
   "cell_type": "code",
   "execution_count": 4,
   "metadata": {},
   "outputs": [
    {
     "data": {
      "text/html": [
       "<div>\n",
       "<style scoped>\n",
       "    .dataframe tbody tr th:only-of-type {\n",
       "        vertical-align: middle;\n",
       "    }\n",
       "\n",
       "    .dataframe tbody tr th {\n",
       "        vertical-align: top;\n",
       "    }\n",
       "\n",
       "    .dataframe thead th {\n",
       "        text-align: right;\n",
       "    }\n",
       "</style>\n",
       "<table border=\"1\" class=\"dataframe\">\n",
       "  <thead>\n",
       "    <tr style=\"text-align: right;\">\n",
       "      <th></th>\n",
       "      <th>image_id</th>\n",
       "      <th>isup_grade</th>\n",
       "    </tr>\n",
       "  </thead>\n",
       "  <tbody>\n",
       "    <tr>\n",
       "      <th>0</th>\n",
       "      <td>005700be7e06878e6605e7a5a39de1b2</td>\n",
       "      <td>0</td>\n",
       "    </tr>\n",
       "    <tr>\n",
       "      <th>1</th>\n",
       "      <td>005c6e8877caf724c600fdce5d417d40</td>\n",
       "      <td>0</td>\n",
       "    </tr>\n",
       "    <tr>\n",
       "      <th>2</th>\n",
       "      <td>0104f76634ff89bfff1ef0804a95c380</td>\n",
       "      <td>0</td>\n",
       "    </tr>\n",
       "  </tbody>\n",
       "</table>\n",
       "</div>"
      ],
      "text/plain": [
       "                           image_id  isup_grade\n",
       "0  005700be7e06878e6605e7a5a39de1b2           0\n",
       "1  005c6e8877caf724c600fdce5d417d40           0\n",
       "2  0104f76634ff89bfff1ef0804a95c380           0"
      ]
     },
     "execution_count": 4,
     "metadata": {},
     "output_type": "execute_result"
    }
   ],
   "source": [
    "sample_submission_df.head()"
   ]
  },
  {
   "cell_type": "code",
   "execution_count": 5,
   "metadata": {},
   "outputs": [
    {
     "data": {
      "text/html": [
       "<div>\n",
       "<style scoped>\n",
       "    .dataframe tbody tr th:only-of-type {\n",
       "        vertical-align: middle;\n",
       "    }\n",
       "\n",
       "    .dataframe tbody tr th {\n",
       "        vertical-align: top;\n",
       "    }\n",
       "\n",
       "    .dataframe thead th {\n",
       "        text-align: right;\n",
       "    }\n",
       "</style>\n",
       "<table border=\"1\" class=\"dataframe\">\n",
       "  <thead>\n",
       "    <tr style=\"text-align: right;\">\n",
       "      <th></th>\n",
       "      <th>image_id</th>\n",
       "      <th>data_provider</th>\n",
       "      <th>isup_grade</th>\n",
       "      <th>gleason_score</th>\n",
       "    </tr>\n",
       "  </thead>\n",
       "  <tbody>\n",
       "    <tr>\n",
       "      <th>0</th>\n",
       "      <td>0005f7aaab2800f6170c399693a96917</td>\n",
       "      <td>karolinska</td>\n",
       "      <td>0</td>\n",
       "      <td>0+0</td>\n",
       "    </tr>\n",
       "    <tr>\n",
       "      <th>1</th>\n",
       "      <td>000920ad0b612851f8e01bcc880d9b3d</td>\n",
       "      <td>karolinska</td>\n",
       "      <td>0</td>\n",
       "      <td>0+0</td>\n",
       "    </tr>\n",
       "    <tr>\n",
       "      <th>2</th>\n",
       "      <td>0018ae58b01bdadc8e347995b69f99aa</td>\n",
       "      <td>radboud</td>\n",
       "      <td>4</td>\n",
       "      <td>4+4</td>\n",
       "    </tr>\n",
       "    <tr>\n",
       "      <th>3</th>\n",
       "      <td>001c62abd11fa4b57bf7a6c603a11bb9</td>\n",
       "      <td>karolinska</td>\n",
       "      <td>4</td>\n",
       "      <td>4+4</td>\n",
       "    </tr>\n",
       "    <tr>\n",
       "      <th>4</th>\n",
       "      <td>001d865e65ef5d2579c190a0e0350d8f</td>\n",
       "      <td>karolinska</td>\n",
       "      <td>0</td>\n",
       "      <td>0+0</td>\n",
       "    </tr>\n",
       "  </tbody>\n",
       "</table>\n",
       "</div>"
      ],
      "text/plain": [
       "                           image_id data_provider  isup_grade gleason_score\n",
       "0  0005f7aaab2800f6170c399693a96917    karolinska           0           0+0\n",
       "1  000920ad0b612851f8e01bcc880d9b3d    karolinska           0           0+0\n",
       "2  0018ae58b01bdadc8e347995b69f99aa       radboud           4           4+4\n",
       "3  001c62abd11fa4b57bf7a6c603a11bb9    karolinska           4           4+4\n",
       "4  001d865e65ef5d2579c190a0e0350d8f    karolinska           0           0+0"
      ]
     },
     "execution_count": 5,
     "metadata": {},
     "output_type": "execute_result"
    }
   ],
   "source": [
    "train_df.head()"
   ]
  },
  {
   "cell_type": "code",
   "execution_count": 6,
   "metadata": {},
   "outputs": [
    {
     "data": {
      "text/html": [
       "<div>\n",
       "<style scoped>\n",
       "    .dataframe tbody tr th:only-of-type {\n",
       "        vertical-align: middle;\n",
       "    }\n",
       "\n",
       "    .dataframe tbody tr th {\n",
       "        vertical-align: top;\n",
       "    }\n",
       "\n",
       "    .dataframe thead th {\n",
       "        text-align: right;\n",
       "    }\n",
       "</style>\n",
       "<table border=\"1\" class=\"dataframe\">\n",
       "  <thead>\n",
       "    <tr style=\"text-align: right;\">\n",
       "      <th></th>\n",
       "      <th>image_id</th>\n",
       "      <th>data_provider</th>\n",
       "    </tr>\n",
       "  </thead>\n",
       "  <tbody>\n",
       "    <tr>\n",
       "      <th>0</th>\n",
       "      <td>005700be7e06878e6605e7a5a39de1b2</td>\n",
       "      <td>radboud</td>\n",
       "    </tr>\n",
       "    <tr>\n",
       "      <th>1</th>\n",
       "      <td>005c6e8877caf724c600fdce5d417d40</td>\n",
       "      <td>karolinska</td>\n",
       "    </tr>\n",
       "    <tr>\n",
       "      <th>2</th>\n",
       "      <td>0104f76634ff89bfff1ef0804a95c380</td>\n",
       "      <td>radboud</td>\n",
       "    </tr>\n",
       "  </tbody>\n",
       "</table>\n",
       "</div>"
      ],
      "text/plain": [
       "                           image_id data_provider\n",
       "0  005700be7e06878e6605e7a5a39de1b2       radboud\n",
       "1  005c6e8877caf724c600fdce5d417d40    karolinska\n",
       "2  0104f76634ff89bfff1ef0804a95c380       radboud"
      ]
     },
     "execution_count": 6,
     "metadata": {},
     "output_type": "execute_result"
    }
   ],
   "source": [
    "test_df.head()"
   ]
  },
  {
   "cell_type": "markdown",
   "execution_count": null,
   "metadata": {},
   "source": [
    "Test and sample submission csv files have only 3 rows (samples).\n",
    "\n",
    "In train data there is a column (gleason_score) that is not present either in test (with image_id & data_provider) or in sample submission (image_id & isup_grade) csv.\n",
    "\n",
    "The objective is to predict isup_grade for each image in test set.\n",
    "\n",
    "Let's check now the train data in train_images and train_label masks folders."
   ]
  },
  {
   "cell_type": "code",
   "execution_count": 7,
   "metadata": {},
   "outputs": [],
   "source": [
    "train_image_list = os.listdir(os.path.join(PATH, 'train_images'))\n",
    "train_label_masks_list = os.listdir(os.path.join(PATH, 'train_label_masks'))"
   ]
  },
  {
   "cell_type": "code",
   "execution_count": 8,
   "metadata": {},
   "outputs": [
    {
     "name": "stdout",
     "output_type": "stream",
     "text": [
      "train image_id list: 10616\n",
      "train image list: 10616\n",
      "train label masks list: 10516\n"
     ]
    }
   ],
   "source": [
    "print(f\"train image_id list: {train_df.image_id.nunique()}\")\n",
    "print(f\"train image list: {len(train_image_list)}\")\n",
    "print(f\"train label masks list: {len(train_label_masks_list)}\")"
   ]
  },
  {
   "cell_type": "markdown",
   "execution_count": null,
   "metadata": {},
   "source": [
    "We can observe that there are totally 10616 train images, with same number 10616 corresponding images and only 10516 mask images.\n",
    "\n",
    "Consequently there are 100 images with missing masks."
   ]
  },
  {
   "cell_type": "code",
   "execution_count": 9,
   "metadata": {},
   "outputs": [
    {
     "name": "stdout",
     "output_type": "stream",
     "text": [
      "sample of image_id list: ['0005f7aaab2800f6170c399693a96917' '000920ad0b612851f8e01bcc880d9b3d'\n",
      " '0018ae58b01bdadc8e347995b69f99aa']\n",
      "sample of image list: ['0cc35bc0fe4dd912b20f72d66888fd49.tiff', '4f53892473ee239f9dc9d80047cb3627.tiff', '9335fbc722c3feb51e73c142238a0751.tiff']\n",
      "sample of label masks list: ['4b223c776c0ddb0699d74f3334c1e5e6_mask.tiff', 'b481b56617ce096435cb591adc6dd0b9_mask.tiff', '53dfff0cecd06c15f600d334e7324b78_mask.tiff']\n"
     ]
    }
   ],
   "source": [
    "print(f\"sample of image_id list: {train_df.image_id.values[0:3]}\")\n",
    "print(f\"sample of image list: {train_image_list[0:3]}\")\n",
    "print(f\"sample of label masks list: {train_label_masks_list[0:3]}\")"
   ]
  },
  {
   "cell_type": "markdown",
   "execution_count": null,
   "metadata": {},
   "source": [
    "### 3.Missing Data\n",
    "\n",
    "Let's check for missing values in these lists.\n",
    "\n",
    "For this, we will remove the suffix and extension from label masks and will remove the extension from image list."
   ]
  },
  {
   "cell_type": "code",
   "execution_count": 10,
   "metadata": {},
   "outputs": [],
   "source": [
    "trimmed_image_list = []\n",
    "for img in train_image_list:\n",
    "    trimmed_image_list.append(img.split('.tiff')[0])"
   ]
  },
  {
   "cell_type": "code",
   "execution_count": 11,
   "metadata": {},
   "outputs": [],
   "source": [
    "trimmed_label_masks_list = []\n",
    "for img in train_label_masks_list:\n",
    "    trimmed_label_masks_list.append(img.split('_mask.tiff')[0])"
   ]
  },
  {
   "cell_type": "code",
   "execution_count": 12,
   "metadata": {},
   "outputs": [
    {
     "name": "stdout",
     "output_type": "stream",
     "text": [
      "image (tiff) & label masks: 10516\n",
      "image_id (train) & label masks: 10516\n",
      "image_id (train) & image (tiff): 10616\n"
     ]
    }
   ],
   "source": [
    "intersect_i_m = (set(trimmed_image_list) & set(trimmed_label_masks_list))\n",
    "intersect_id_m = (set(train_df.image_id.unique()) & set(trimmed_label_masks_list))\n",
    "intersect_id_i = (set(train_df.image_id.unique()) & set(trimmed_image_list))\n",
    "\n",
    "print(f\"image (tiff) & label masks: {len(intersect_i_m)}\")\n",
    "print(f\"image_id (train) & label masks: {len(intersect_id_m)}\")\n",
    "print(f\"image_id (train) & image (tiff): {len(intersect_id_i)}\")"
   ]
  },
  {
   "cell_type": "markdown",
   "execution_count": null,
   "metadata": {},
   "source": [
    "Both intersections with masks set cardinality is equal with the mask set data dimmensions. And intersection between train image ids and image equals train cardinality.\n",
    "\n",
    "That means that, besides the missing 100 mask images, is no missing data: all images indexed in train data has corresponding tiff images and only 100 tiff label masks are missing.\n",
    "\n",
    "Let's see what images have missing masks."
   ]
  },
  {
   "cell_type": "code",
   "execution_count": 13,
   "metadata": {},
   "outputs": [
    {
     "name": "stdout",
     "output_type": "stream",
     "text": [
      "missing masks: 100 images (press output button to see the list)\n"
     ]
    }
   ],
   "source": [
    "missing_masks  = np.setdiff1d(trimmed_image_list,trimmed_label_masks_list)\n",
    "print(f'missing masks: {len(missing_masks)} images (press output button to see the list)')"
   ]
  },
  {
   "cell_type": "code",
   "execution_count": 14,
   "metadata": {},
   "outputs": [
    {
     "name": "stdout",
     "output_type": "stream",
     "text": [
      "['040b2c98538ec7ead1cbd6daacdb3f64', '05f2ae45ead3e5737d102656366752df', '0cbadddd6fd3eca47c33e48752f680cd', '0ebea13245a2b04ca3e6a482091e35d6', '11641ccf5569bc94de323bb50b7fec7e', '13ab419e772cf0dd8140f34f905bd918', '13aba34105b637fcf77e4efdc4ccaef4', '148b753bb4a61f27bc4f17c6d123e1ec', '1563523865810e5763f7f1dd1a30da85', '1a14633255dc8b2dd5a36fd6f3eaf839', '1aff7ddcd1864b0e2fa4fdf61e965a83', '2ac36a2e35654c0be9e818f9f9407807', '2d7eef10a777361cd0872f70dda344ba', '2f178956e9fc7df485c50395b9664b40', '31fd11d1920dede9f0fa0dcb35baa34e', '33105f777ddf03e095ed3350179b41da', '34b9896eebff5d0501dc23156b26f2b3', '3756141b86ca5f2afcacf5113d4e8f83', '3ac1b4146a8bea81e2ff2b1f2c0bb0c8', '3ae66332c2dd50c6ce458937d49f8232', '3ec8cdd4bcb971eea9c54d7dd1a49e1c', '41bfc11a16555808e8ddf2af836e6943', '458b3e1c2f1f56179d89fec4d56bd8d6', '4da79675b490fd611075cd6b84b83adb', '4e3f861386c391790eea8f0de4ab5015', '5037b3b05aec2c96a034ce9301a43326', '53f2d7fc3b642a8b6cc2d2780f6bb48b', '5477d1fe122c0b899b4be1634d3d8da5', '54f5546d5e8afe397e0180510148fb85', '5983afd79b3d81e4fa5d23eccdcac8c4', '5a4d7035c9741c06a1c38b4c7dccdba0', '5fcce7dc17349db4badc8e94e41f45eb', '632e75c2e505dca41ae57573e70932b9', '6437f1be7543631458919813cc6ba8cf', '6519a41ad0cd0eadde0cde1ee256d141', '663be089197be4c5f7f4a6e1718f9c50', '6806e41cd6048002dfa52e2f4ad88900', '685b3fd17cdb8da60494694df414dc20', '695c5b79a3c75deea1f333f56e305e85', '69cbb87f131ddaa6b2ea5e9b6694c01d', '6df7a3d8b4955d162fcc11bce003860a', '6ffaf27156505265f49d0dbc2d14a745', '741c3cea01151450aa8a04c021978b70', '746223e2679f7697dc6b6aad326a01df', '81e8daac3be77e62ac181304eec1ceec', '81f1706e615ff80757a041cf70d022f5', '829dd10a2effb3f6aad826dc06217f58', '84859c9c3bf27b78b300204cb328baf0', '90155f31bd058a8f7b959346103bdc0c', '933e0a326144bffd98a22ef54fa1466a', '990cfa4d540e7a0a0e90dd79bb82a527', '995d89d079e8b1e4e06217d3f7fd6d9e', '9b6513bd810e25a7b7f3bd91b4d16803', 'a109197ed889dd998c52e3f9d0bd98f0', 'a1385e79c61705772c03a7cd134c72e7', 'a61bde5fa031a829eed61c44ea348963', 'a65a4942b32e64ab56e8128575f81f9b', 'a8ddb6294c3f4b9123471e92b3947b20', 'aad60997596c9d820acb6cb4b39a32ca', 'ac9f59ca466750dbc43bae3ade2676a3', 'af964131a5f92d123d0fb1061e7aa24a', 'af9a7c64f3218dcb1ed01cc10d3f7e50', 'b28cbb288d6f8bb2f45895287a621f43', 'b5d27a874ddb2c49f7a77e70b97e0021', 'b5db121ca6ba4d979a6bef814d5fdb17', 'b6808a211b62298e06b0ac7f30f29882', 'b768b6c84849f2ba435eae0f5be52c76', 'b94e363b5500bffeb841e2f5ddaad50b', 'b9df338c2d3db201e2bd938ddbd1c913', 'ba8bc951801ef17040b62f984c291d70', 'bc6e1ebec08a9503689da9a095690dfe', 'bd5aa0e284c6dc0b0b09513731f252a8', 'bd68158ecb3eec132592d14fecc35cc0', 'bd6f8389b1d1f39c832d30ab4df72816', 'c3ca4a75be0055aefe79f6849804d62c', 'c40fab4c4c3658f40cc9a73c8602d8d0', 'c7664405d98a76f0b30a1c18b6ae270b', 'cde2247ec66faa1d9ed7cb325d14bcd4', 'ce703fe24b485beaf1668ffc3ec6c858', 'd0115a12026bc4b8a10ad05fe4992ded', 'd66e101c469f93f92262aa671d10feec', 'd756b18ac015e7d53b31b5c8b50acabe', 'd8dab9eef691dc2a83874a3560fbaddb', 'd8e6c24dadbb377b6934a21ba7ce02c4', 'da765c184811f60cbff3d669bb6bcc62', 'dc4034659aa2ae3585cdbe6febd3540b', 'e0f8b96960ada384a00e493545f783da', 'e4e48b9bb72df7391a12304ccddffc4e', 'e643797bc1d667d5b6a4f43ddd91c27b', 'e6725d72152aee9323a8c8ba910828b5', 'eafd9197171d786210aa97a3bd9f74e6', 'eb15d508d434c2fede99f7227d03fb4d', 'ec1a371b933875ff0a2b65e315838294', 'eec36dafc7b16caaadf5418529dc29cd', 'ef370f7b011f0c0303a7ae14fe0c0770', 'ef528624c588c2f9d04c79d400f1aacc', 'f12da90682826a7b149fc550722e14c4', 'f9b2162716bb1679a53424b0e6bc7f9b', 'fc9f4ed1a24d73f80ded47ebdd145dd3', 'fd03054e356d9e95da6ebba5d9c7fb07']\n"
     ]
    }
   ],
   "source": [
    "print(list(missing_masks))"
   ]
  },
  {
   "cell_type": "markdown",
   "execution_count": null,
   "metadata": {},
   "source": [
    "### 4.Data Exploration\n",
    "\n",
    "Let's check distribution of data_provider, isup_grade and gleason_score in train data."
   ]
  },
  {
   "cell_type": "code",
   "execution_count": 15,
   "metadata": {},
   "outputs": [],
   "source": [
    "def plot_count(df, feature, title='', size=2):\n",
    "    f, ax = plt.subplots(1,1, figsize=(3*size,2*size))\n",
    "    total = float(len(df))\n",
    "    sns.countplot(df[feature],order = df[feature].value_counts().index, palette='Set3')\n",
    "    plt.title(title)\n",
    "    for p in ax.patches:\n",
    "        height = p.get_height()\n",
    "        ax.text(p.get_x()+p.get_width()/2.,\n",
    "                height + 3,\n",
    "                '{:1.2f}%'.format(100*height/total),\n",
    "                ha=\"center\") \n",
    "    plt.show()"
   ]
  },
  {
   "cell_type": "code",
   "execution_count": 16,
   "metadata": {},
   "outputs": [
    {
     "data": {
      "image/png": "[encoded data removed]",
      "text/plain": [
       "<Figure size 432x288 with 1 Axes>"
      ]
     },
     "metadata": {
      "needs_background": "light"
     },
     "output_type": "display_data"
    }
   ],
   "source": [
    "plot_count(train_df, 'data_provider', 'Data provider - data count and percent')"
   ]
  },
  {
   "cell_type": "markdown",
   "execution_count": null,
   "metadata": {},
   "source": [
    "Two research sources are present: Karolinska Institute and Radboud University."
   ]
  },
  {
   "cell_type": "code",
   "execution_count": 17,
   "metadata": {},
   "outputs": [
    {
     "data": {
      "image/png": "[encoded data removed]",
      "text/plain": [
       "<Figure size 648x432 with 1 Axes>"
      ]
     },
     "metadata": {
      "needs_background": "light"
     },
     "output_type": "display_data"
    }
   ],
   "source": [
    "plot_count(train_df, 'isup_grade','ISUP grade - data count and percent', size=3)"
   ]
  },
  {
   "cell_type": "markdown",
   "execution_count": null,
   "metadata": {},
   "source": [
    "In 2012, the International Society of Urologic Pathologists (ISUP) proposed a novel, validated grading system for clear cell renal cell carcinoma (ccRCC) and papillary renal cell carcinoma (pRCC) that has been implemented by the World Health Organization (WHO).This system is based primarily on the nucleoli assessment of the tumors, as follows [1]:\n",
    "\n",
    "*     Grade 1: Inconspicuous nucleoli at ×400 magnification and basophilic\n",
    "*     Grade 2: Clearly visible nucleoli at ×400 magnification and eosinophilic\n",
    "*     Grade 3: Clearly visible nucleoli at ×100 magnification\n",
    "*     Grade 4: Extreme pleomorphism or rhabdoid and/or sarcomatoid morphology\n",
    "\n",
    "Majority of data samples in train set have ISUP grade values 0 or 1 (total > 50%) and the rest of the data samples have associated ISUP grades from 2 to 5 with all ranging in the 11-12% each."
   ]
  },
  {
   "cell_type": "code",
   "execution_count": 18,
   "metadata": {},
   "outputs": [
    {
     "data": {
      "image/png": "[encoded data removed]",
      "text/plain": [
       "<Figure size 648x432 with 1 Axes>"
      ]
     },
     "metadata": {
      "needs_background": "light"
     },
     "output_type": "display_data"
    }
   ],
   "source": [
    "plot_count(train_df, 'gleason_score', 'Gleason score - data count and percent', size=3)"
   ]
  },
  {
   "cell_type": "markdown",
   "execution_count": null,
   "metadata": {},
   "source": [
    "The data is unbalanced with respect of Gleason score values distribution.\n",
    "\n",
    "Let's check now relative distribution of ISUP grade anf Gleason score values."
   ]
  },
  {
   "cell_type": "code",
   "execution_count": 19,
   "metadata": {},
   "outputs": [
    {
     "data": {
      "image/png": "[encoded data removed]",
      "text/plain": [
       "<Figure size 864x432 with 1 Axes>"
      ]
     },
     "metadata": {
      "needs_background": "light"
     },
     "output_type": "display_data"
    }
   ],
   "source": [
    "fig, ax = plt.subplots(nrows=1,figsize=(12,6))\n",
    "tmp = train_df.groupby('isup_grade')['gleason_score'].value_counts()\n",
    "df = pd.DataFrame(data={'Exams': tmp.values}, index=tmp.index).reset_index()\n",
    "sns.barplot(ax=ax,x = 'isup_grade', y='Exams',hue='gleason_score',data=df, palette='Set1')\n",
    "plt.title(\"Number of examinations grouped on ISUP grade and Gleason score\")\n",
    "plt.show()"
   ]
  },
  {
   "cell_type": "markdown",
   "execution_count": null,
   "metadata": {},
   "source": [
    "### Inference:\n",
    "\n",
    "*     All exams with ISUP grade = 0 have Gleason score 0+0 or negative.\n",
    "*     All exams with ISUP grade = 1 have Gleason score 3+3.\n",
    "*     All exams with ISUP grade = 2 have Gleason score 3+4.\n",
    "*     All exams with ISUP grade = 3 have Gleason score 4+3.\n",
    "*     All exams with ISUP grade = 4 have Gleason score 4+4 (majority), 3+5 or 5+3.\n",
    "*     All exams with ISUP grade = 5 have Gleason score 4+5 (majority), 5+4 or 5+5.\n",
    "\n",
    "#### This data distribution can be better visualized using a heatmap as below:"
   ]
  },
  {
   "cell_type": "code",
   "execution_count": 20,
   "metadata": {},
   "outputs": [
    {
     "data": {
      "image/png": "[encoded data removed]",
      "text/plain": [
       "<Figure size 576x576 with 2 Axes>"
      ]
     },
     "metadata": {
      "needs_background": "light"
     },
     "output_type": "display_data"
    }
   ],
   "source": [
    "fig, ax = plt.subplots(nrows=1,figsize=(8,8))\n",
    "heatmap_data = pd.pivot_table(df, values='Exams', index=['isup_grade'], columns='gleason_score')\n",
    "sns.heatmap(heatmap_data, cmap=\"YlGnBu\",linewidth=0.5, linecolor='blue')\n",
    "plt.title('Number of examinations grouped on ISUP grade and Gleason score')\n",
    "plt.show()"
   ]
  },
  {
   "cell_type": "markdown",
   "execution_count": null,
   "metadata": {},
   "source": [
    "#### This seems to be aligned with the correspondence matrix as shown in the following table:"
   ]
  },
  {
   "cell_type": "code",
   "execution_count": 21,
   "metadata": {},
   "outputs": [
    {
     "data": {
      "text/html": [
       "<table><tr><td>Gleason Score</td><td>ISUP Grade</td></tr><tr><td>0+0</td><td>0</td></tr><tr><td>negative</td><td>0</td></tr><tr><td>3+3</td><td>1</td></tr><tr><td>3+4</td><td>2</td></tr><tr><td>4+3</td><td>3</td></tr><tr><td>4+4</td><td>4</td></tr><tr><td>3+5</td><td>4</td></tr><tr><td>5+3</td><td>4</td></tr><tr><td>4+5</td><td>5</td></tr><tr><td>5+4</td><td>5</td></tr><tr><td>5+5</td><td>5</td></tr></table>"
      ],
      "text/plain": [
       "<IPython.core.display.HTML object>"
      ]
     },
     "metadata": {},
     "output_type": "display_data"
    }
   ],
   "source": [
    "from IPython.display import HTML, display\n",
    "\n",
    "data = [[\"Gleason Score\", \"ISUP Grade\"],\n",
    "        [\"0+0\", \"0\"], [\"negative\", \"0\"],\n",
    "        [\"3+3\", \"1\"], [\"3+4\", \"2\"], [\"4+3\", \"3\"], \n",
    "        [\"4+4\", \"4\"], [\"3+5\", \"4\"], [\"5+3\", \"4\"],\n",
    "        [\"4+5\", \"5\"], [\"5+4\", \"5\"], [\"5+5\", \"5\"],\n",
    "        ]\n",
    "\n",
    "display(HTML(\n",
    "   '<table><tr>{}</tr></table>'.format(\n",
    "       '</tr><tr>'.join(\n",
    "           '<td>{}</td>'.format('</td><td>'.join(str(_) for _ in row)) for row in data)\n",
    "       )\n",
    "))"
   ]
  },
  {
   "cell_type": "markdown",
   "execution_count": null,
   "metadata": {},
   "source": [
    "The only misalignment is in the fact that for ISUP Grade 2, in the data we also have Gleason score 4+3 (which also appears for ISUP Grade 3).\n",
    "\n",
    "Let's see how Gleason score is grouped by Data source.\n"
   ]
  },
  {
   "cell_type": "code",
   "execution_count": 22,
   "metadata": {},
   "outputs": [
    {
     "data": {
      "image/png": "[encoded data removed]",
      "text/plain": [
       "<Figure size 864x432 with 1 Axes>"
      ]
     },
     "metadata": {
      "needs_background": "light"
     },
     "output_type": "display_data"
    }
   ],
   "source": [
    "fig, ax = plt.subplots(nrows=1,figsize=(12,6)) \n",
    "tmp = train_df.groupby('data_provider')['gleason_score'].value_counts() \n",
    "df = pd.DataFrame(data={'Exams': tmp.values}, index=tmp.index).reset_index() \n",
    "sns.barplot(ax=ax,x = 'data_provider', y='Exams',hue='gleason_score',data=df, palette='Set1') \n",
    "plt.title(\"Number of examinations grouped on Data provider and Gleason score\") \n",
    "plt.show()"
   ]
  },
  {
   "cell_type": "markdown",
   "execution_count": null,
   "metadata": {},
   "source": [
    "We can observe that all of the 0+0 Gleason score data samples are from Karolinska while from Radboud we have most of negative data.\n",
    "\n",
    "For Karolinska, next (in terms of frequency) are samples with Gleason score 3+3, 3+4, 4+4.\n",
    "\n",
    "For Radboud, next (in terms of frequency) most frequent are samples with Gleason score 4+3, 3+3, 3+4, 4+4, 4+5.\n",
    "\n",
    "Let's see how ISUP grade is distributed with respect of Data provider."
   ]
  },
  {
   "cell_type": "code",
   "execution_count": 23,
   "metadata": {},
   "outputs": [
    {
     "data": {
      "image/png": "[encoded data removed]",
      "text/plain": [
       "<Figure size 864x432 with 1 Axes>"
      ]
     },
     "metadata": {
      "needs_background": "light"
     },
     "output_type": "display_data"
    }
   ],
   "source": [
    "fig, ax = plt.subplots(nrows=1,figsize=(12,6)) \n",
    "tmp = train_df.groupby('data_provider')['isup_grade'].value_counts() \n",
    "df = pd.DataFrame(data={'Exams': tmp.values}, index=tmp.index).reset_index() \n",
    "sns.barplot(ax=ax,x = 'data_provider', y='Exams',hue='isup_grade',data=df, palette='Set1') \n",
    "plt.title(\"Number of examinations grouped on Data provider and ISUP Grade\") \n",
    "plt.show()"
   ]
  },
  {
   "cell_type": "markdown",
   "execution_count": null,
   "metadata": {},
   "source": [
    "Most of the 0 & 1 ISUP Grade samples are originated from Karolinska.\n",
    "\n",
    "Most of the 2-5 ISUP Grade samples are originated from Radboud."
   ]
  },
  {
   "cell_type": "code",
   "execution_count": null,
   "metadata": {},
   "outputs": [],
   "source": []
  }
 ],
 "metadata": {
  "kernelspec": {
   "display_name": "Python 3",
   "language": "python",
   "name": "python3"
  },
  "language_info": {
   "codemirror_mode": {
    "name": "ipython",
    "version": 3
   },
   "file_extension": ".py",
   "mimetype": "text/x-python",
   "name": "python",
   "nbconvert_exporter": "python",
   "pygments_lexer": "ipython3",
   "version": "3.7.6"
  }
 },
 "nbformat": 4,
 "nbformat_minor": 4
}
